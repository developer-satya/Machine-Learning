{
 "cells": [
  {
   "cell_type": "markdown",
   "id": "9e3dcbd5",
   "metadata": {},
   "source": [
    "# Single Layer Neural Network"
   ]
  },
  {
   "cell_type": "code",
   "execution_count": 1,
   "id": "39508608",
   "metadata": {},
   "outputs": [],
   "source": [
    "import numpy as np"
   ]
  },
  {
   "cell_type": "markdown",
   "id": "a02d9fe8",
   "metadata": {},
   "source": [
    "### With single neuron"
   ]
  },
  {
   "cell_type": "code",
   "execution_count": 3,
   "id": "70e595a3",
   "metadata": {},
   "outputs": [
    {
     "name": "stdout",
     "output_type": "stream",
     "text": [
      "11.399999999999999\n"
     ]
    }
   ],
   "source": [
    "# Creating neural network with 4 input\n",
    "inputs = [2, 4, 6, 8]\n",
    "\n",
    "# Having corresponding weight with each input\n",
    "weights = [0.4, 0.7, -0.4, 0.9]\n",
    "\n",
    "# initially it has one neuron with given bias\n",
    "bias = 3\n",
    "\n",
    "# output we get after the signgle neuron\n",
    "output = inputs[0]*weights[0]+inputs[1]*weights[1]+inputs[2]*weights[2]+inputs[3]*weights[3]+bias\n",
    "\n",
    "print(output)"
   ]
  },
  {
   "cell_type": "markdown",
   "id": "563a198d",
   "metadata": {},
   "source": [
    "### With Multiple Neuron"
   ]
  },
  {
   "cell_type": "code",
   "execution_count": 3,
   "id": "7f475935",
   "metadata": {},
   "outputs": [
    {
     "name": "stdout",
     "output_type": "stream",
     "text": [
      "[2.3, 4.6, 0.19999999999999984]\n"
     ]
    }
   ],
   "source": [
    "# This neural network having 4 input\n",
    "inputs = [1,2,3]\n",
    "\n",
    "# Each inputs have weightage corresponding to each nurons\n",
    "weights1 = [0.2, 0.8, -0.5]\n",
    "weights2 = [0.5, -0.2, 0.5]\n",
    "weights3 = [0.2, 0.1, -0.4]\n",
    "\n",
    "# There is 3 nurons with given bias\n",
    "bias1 = 2\n",
    "bias2 = 3\n",
    "bias3 = 1\n",
    "    \n",
    "\n",
    "output = [inputs[0]*weights1[0]+inputs[1]*weights1[1]+inputs[2]*weights1[2] + bias1,\n",
    "          inputs[0]*weights2[0]+inputs[1]*weights2[1]+inputs[2]*weights2[2] + bias2,\n",
    "          inputs[0]*weights3[0]+inputs[1]*weights3[1]+inputs[2]*weights3[2] + bias3]\n",
    "\n",
    "print(output)\n"
   ]
  },
  {
   "cell_type": "markdown",
   "id": "9a95d5c6",
   "metadata": {},
   "source": [
    "### The Dot Product"
   ]
  },
  {
   "cell_type": "code",
   "execution_count": 4,
   "id": "346f97e3",
   "metadata": {},
   "outputs": [
    {
     "name": "stdout",
     "output_type": "stream",
     "text": [
      "[2.3, 4.6, 0.19999999999999984]\n"
     ]
    }
   ],
   "source": [
    "# This neural network having 4 input\n",
    "inputs = [1,2,3]\n",
    "\n",
    "# Each inputs have weightage corresponding to each nurons\n",
    "weights =  [[0.2, 0.8, -0.5],\n",
    "            [0.5, -0.2, 0.5],\n",
    "            [0.2, 0.1, -0.4]]\n",
    "\n",
    "# There is 3 nurons with given bias\n",
    "bias = [2,3,1]\n",
    "\n",
    "\n",
    "layer_outputs = []\n",
    "for neuron_weights, neuron_bias in zip(weights, bias):\n",
    "    neuron_output=0\n",
    "    for n_input, weight in zip(inputs, neuron_weights):\n",
    "        neuron_output+= n_input*weight\n",
    "    neuron_output += neuron_bias\n",
    "    layer_outputs.append(neuron_output)\n",
    "    \n",
    "print(layer_outputs)\n",
    "        "
   ]
  },
  {
   "cell_type": "code",
   "execution_count": 5,
   "id": "bf7894ec",
   "metadata": {},
   "outputs": [
    {
     "name": "stdout",
     "output_type": "stream",
     "text": [
      "[2.3 4.6 0.2]\n"
     ]
    }
   ],
   "source": [
    "# This neural network having 4 input\n",
    "inputs = [1,2,3]\n",
    "\n",
    "# Each inputs have weightage corresponding to each nurons\n",
    "weights =  [[0.2, 0.8, -0.5],\n",
    "            [0.5, -0.2, 0.5],\n",
    "            [0.2, 0.1, -0.4]]\n",
    "\n",
    "\n",
    "# There is 3 nurons with given bias\n",
    "biases = [2,3,1]\n",
    "\n",
    "output = np.dot(weights, inputs) + biases\n",
    "\n",
    "print(output)\n",
    "\n"
   ]
  },
  {
   "cell_type": "code",
   "execution_count": null,
   "id": "43406d37",
   "metadata": {},
   "outputs": [],
   "source": []
  }
 ],
 "metadata": {
  "kernelspec": {
   "display_name": "Python 3 (ipykernel)",
   "language": "python",
   "name": "python3"
  },
  "language_info": {
   "codemirror_mode": {
    "name": "ipython",
    "version": 3
   },
   "file_extension": ".py",
   "mimetype": "text/x-python",
   "name": "python",
   "nbconvert_exporter": "python",
   "pygments_lexer": "ipython3",
   "version": "3.11.4"
  }
 },
 "nbformat": 4,
 "nbformat_minor": 5
}
